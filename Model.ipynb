{
 "cells": [
  {
   "cell_type": "code",
   "execution_count": 1,
   "id": "604aeb81",
   "metadata": {},
   "outputs": [
    {
     "ename": "ModuleNotFoundError",
     "evalue": "No module named 'keras.layers.merge'",
     "output_type": "error",
     "traceback": [
      "\u001b[1;31m---------------------------------------------------------------------------\u001b[0m",
      "\u001b[1;31mModuleNotFoundError\u001b[0m                       Traceback (most recent call last)",
      "Input \u001b[1;32mIn [1]\u001b[0m, in \u001b[0;36m<cell line: 10>\u001b[1;34m()\u001b[0m\n\u001b[0;32m      8\u001b[0m \u001b[38;5;28;01mfrom\u001b[39;00m \u001b[38;5;21;01mtensorflow\u001b[39;00m\u001b[38;5;21;01m.\u001b[39;00m\u001b[38;5;21;01mkeras\u001b[39;00m\u001b[38;5;21;01m.\u001b[39;00m\u001b[38;5;21;01mlayers\u001b[39;00m \u001b[38;5;28;01mimport\u001b[39;00m Input\n\u001b[0;32m      9\u001b[0m \u001b[38;5;28;01mfrom\u001b[39;00m \u001b[38;5;21;01mkeras\u001b[39;00m\u001b[38;5;21;01m.\u001b[39;00m\u001b[38;5;21;01mlayers\u001b[39;00m \u001b[38;5;28;01mimport\u001b[39;00m Activation, Dense, Dropout, Flatten, Input, Convolution2D, MaxPooling2D,concatenate \n\u001b[1;32m---> 10\u001b[0m \u001b[38;5;28;01mfrom\u001b[39;00m \u001b[38;5;21;01mkeras\u001b[39;00m\u001b[38;5;21;01m.\u001b[39;00m\u001b[38;5;21;01mlayers\u001b[39;00m\u001b[38;5;21;01m.\u001b[39;00m\u001b[38;5;21;01mmerge\u001b[39;00m \u001b[38;5;28;01mimport\u001b[39;00m concatenate\n\u001b[0;32m     11\u001b[0m \u001b[38;5;28;01mfrom\u001b[39;00m \u001b[38;5;21;01mtensorflow\u001b[39;00m\u001b[38;5;21;01m.\u001b[39;00m\u001b[38;5;21;01mkeras\u001b[39;00m\u001b[38;5;21;01m.\u001b[39;00m\u001b[38;5;21;01mmodels\u001b[39;00m \u001b[38;5;28;01mimport\u001b[39;00m Sequential, Model\n\u001b[0;32m     12\u001b[0m \u001b[38;5;28;01mfrom\u001b[39;00m \u001b[38;5;21;01mtensorflow\u001b[39;00m\u001b[38;5;21;01m.\u001b[39;00m\u001b[38;5;21;01mkeras\u001b[39;00m\u001b[38;5;21;01m.\u001b[39;00m\u001b[38;5;21;01moptimizers\u001b[39;00m \u001b[38;5;28;01mimport\u001b[39;00m SGD\n",
      "\u001b[1;31mModuleNotFoundError\u001b[0m: No module named 'keras.layers.merge'"
     ]
    }
   ],
   "source": [
    "from keras.models import Sequential\n",
    "import numpy as np\n",
    "import cv2\n",
    "import os\n",
    "import random\n",
    "import matplotlib.pyplot as plt\n",
    "\n",
    "from tensorflow.keras.layers import Input\n",
    "from keras.layers import Activation, Dense, Dropout, Flatten, Input, Convolution2D, MaxPooling2D,concatenate \n",
    "from keras.layers.merge import concatenate\n",
    "from tensorflow.keras.models import Sequential, Model\n",
    "from tensorflow.keras.optimizers import SGD\n",
    "from tensorflow.keras.callbacks import EarlyStopping, ReduceLROnPlateau\n",
    "from tensorflow.keras.callbacks import ModelCheckpoint, ReduceLROnPlateau\n",
    "from livelossplot import PlotLossesKerasTF\n",
    "\n",
    "import os"
   ]
  },
  {
   "cell_type": "code",
   "execution_count": 2,
   "id": "157db8b4",
   "metadata": {},
   "outputs": [],
   "source": [
    "#!pip install tensorflow-gpu\n",
    "#!pip install opencv-python\n",
    "#!pip install matplotlib\n",
    "#!pip install livelossplot"
   ]
  },
  {
   "cell_type": "code",
   "execution_count": 7,
   "id": "1a11c7fe",
   "metadata": {},
   "outputs": [],
   "source": [
    "DIRECTORY=r'C:\\MyMaskD/train'\n",
    "\n",
    "CATEGORIES=['positive','neutral','negative']\n",
    "\n"
   ]
  },
  {
   "cell_type": "code",
   "execution_count": 8,
   "id": "632ec821",
   "metadata": {},
   "outputs": [],
   "source": [
    "IMG_SIZE =100\n",
    "training = []\n",
    "def createTrainingData():\n",
    "    for category in CATEGORIES:\n",
    "        path = os.path.join(DIRECTORY, category)\n",
    "        class_num = CATEGORIES.index(category)\n",
    "        for img in os.listdir(path):\n",
    "            img_array = cv2.imread(os.path.join(path,img),cv2.IMREAD_GRAYSCALE)\n",
    "            new_array = cv2.resize(img_array, (IMG_SIZE, IMG_SIZE))\n",
    "            training.append([new_array, class_num])\n",
    "\n"
   ]
  },
  {
   "cell_type": "code",
   "execution_count": 9,
   "id": "51dd648b",
   "metadata": {},
   "outputs": [],
   "source": [
    "createTrainingData()\n",
    "\n"
   ]
  },
  {
   "cell_type": "code",
   "execution_count": 10,
   "id": "e517a5a2",
   "metadata": {},
   "outputs": [],
   "source": [
    "#!pip install os-sys"
   ]
  },
  {
   "cell_type": "code",
   "execution_count": 11,
   "id": "7da0a0ef",
   "metadata": {},
   "outputs": [],
   "source": [
    "import random\n",
    "\n",
    "random.shuffle(training)\n"
   ]
  },
  {
   "cell_type": "code",
   "execution_count": 12,
   "id": "6529d241",
   "metadata": {},
   "outputs": [
    {
     "name": "stdout",
     "output_type": "stream",
     "text": [
      "0\n",
      "1\n",
      "1\n",
      "0\n",
      "1\n",
      "1\n",
      "0\n",
      "2\n",
      "1\n",
      "2\n",
      "1\n",
      "0\n",
      "1\n",
      "0\n",
      "1\n",
      "0\n",
      "1\n",
      "1\n",
      "0\n",
      "0\n",
      "0\n"
     ]
    }
   ],
   "source": [
    "for sample in training[:21]:\n",
    "    print(sample[1])"
   ]
  },
  {
   "cell_type": "code",
   "execution_count": null,
   "id": "509fad46",
   "metadata": {},
   "outputs": [],
   "source": []
  },
  {
   "cell_type": "code",
   "execution_count": 13,
   "id": "4774cb0a",
   "metadata": {},
   "outputs": [],
   "source": [
    "x =[]\n",
    "y =[]\n",
    "for features, label in training:\n",
    "    x.append(features)\n",
    "    y.append(label)\n",
    "#print(x)\n",
    "\n",
    "\n"
   ]
  },
  {
   "cell_type": "code",
   "execution_count": 14,
   "id": "3b58c9a2",
   "metadata": {},
   "outputs": [
    {
     "name": "stdout",
     "output_type": "stream",
     "text": [
      "[[[[  0]\n",
      "   [  0]\n",
      "   [  0]\n",
      "   ...\n",
      "   [  0]\n",
      "   [  0]\n",
      "   [  0]]\n",
      "\n",
      "  [[  0]\n",
      "   [  0]\n",
      "   [  0]\n",
      "   ...\n",
      "   [  0]\n",
      "   [  0]\n",
      "   [  0]]\n",
      "\n",
      "  [[  0]\n",
      "   [  0]\n",
      "   [  0]\n",
      "   ...\n",
      "   [  0]\n",
      "   [  0]\n",
      "   [  0]]\n",
      "\n",
      "  ...\n",
      "\n",
      "  [[  0]\n",
      "   [  0]\n",
      "   [  0]\n",
      "   ...\n",
      "   [  0]\n",
      "   [  0]\n",
      "   [  0]]\n",
      "\n",
      "  [[  0]\n",
      "   [  0]\n",
      "   [  0]\n",
      "   ...\n",
      "   [  0]\n",
      "   [  0]\n",
      "   [  0]]\n",
      "\n",
      "  [[  0]\n",
      "   [  0]\n",
      "   [  0]\n",
      "   ...\n",
      "   [  0]\n",
      "   [  0]\n",
      "   [  0]]]\n",
      "\n",
      "\n",
      " [[[  0]\n",
      "   [  0]\n",
      "   [  2]\n",
      "   ...\n",
      "   [  0]\n",
      "   [  0]\n",
      "   [  0]]\n",
      "\n",
      "  [[  0]\n",
      "   [  0]\n",
      "   [  2]\n",
      "   ...\n",
      "   [  0]\n",
      "   [  0]\n",
      "   [  0]]\n",
      "\n",
      "  [[  0]\n",
      "   [  0]\n",
      "   [  2]\n",
      "   ...\n",
      "   [  0]\n",
      "   [  0]\n",
      "   [  0]]\n",
      "\n",
      "  ...\n",
      "\n",
      "  [[  0]\n",
      "   [  0]\n",
      "   [  0]\n",
      "   ...\n",
      "   [  0]\n",
      "   [  0]\n",
      "   [  0]]\n",
      "\n",
      "  [[  0]\n",
      "   [  0]\n",
      "   [  0]\n",
      "   ...\n",
      "   [  0]\n",
      "   [  0]\n",
      "   [  0]]\n",
      "\n",
      "  [[  0]\n",
      "   [  0]\n",
      "   [  0]\n",
      "   ...\n",
      "   [  0]\n",
      "   [  0]\n",
      "   [  0]]]\n",
      "\n",
      "\n",
      " [[[  3]\n",
      "   [  3]\n",
      "   [180]\n",
      "   ...\n",
      "   [ 10]\n",
      "   [  3]\n",
      "   [  1]]\n",
      "\n",
      "  [[ 11]\n",
      "   [  5]\n",
      "   [177]\n",
      "   ...\n",
      "   [  6]\n",
      "   [  2]\n",
      "   [  0]]\n",
      "\n",
      "  [[  4]\n",
      "   [ 48]\n",
      "   [186]\n",
      "   ...\n",
      "   [ 17]\n",
      "   [  6]\n",
      "   [  2]]\n",
      "\n",
      "  ...\n",
      "\n",
      "  [[  4]\n",
      "   [  2]\n",
      "   [  2]\n",
      "   ...\n",
      "   [  0]\n",
      "   [  0]\n",
      "   [  0]]\n",
      "\n",
      "  [[  8]\n",
      "   [  3]\n",
      "   [  1]\n",
      "   ...\n",
      "   [  0]\n",
      "   [  0]\n",
      "   [  0]]\n",
      "\n",
      "  [[  0]\n",
      "   [  0]\n",
      "   [  0]\n",
      "   ...\n",
      "   [  0]\n",
      "   [  0]\n",
      "   [  0]]]\n",
      "\n",
      "\n",
      " ...\n",
      "\n",
      "\n",
      " [[[  0]\n",
      "   [  0]\n",
      "   [  0]\n",
      "   ...\n",
      "   [  0]\n",
      "   [  0]\n",
      "   [  0]]\n",
      "\n",
      "  [[  0]\n",
      "   [  0]\n",
      "   [  0]\n",
      "   ...\n",
      "   [  0]\n",
      "   [  0]\n",
      "   [  0]]\n",
      "\n",
      "  [[  0]\n",
      "   [  0]\n",
      "   [  0]\n",
      "   ...\n",
      "   [  0]\n",
      "   [  0]\n",
      "   [  0]]\n",
      "\n",
      "  ...\n",
      "\n",
      "  [[  0]\n",
      "   [  0]\n",
      "   [  0]\n",
      "   ...\n",
      "   [  0]\n",
      "   [  0]\n",
      "   [  0]]\n",
      "\n",
      "  [[  0]\n",
      "   [  0]\n",
      "   [  0]\n",
      "   ...\n",
      "   [  0]\n",
      "   [  0]\n",
      "   [  0]]\n",
      "\n",
      "  [[  0]\n",
      "   [  0]\n",
      "   [  0]\n",
      "   ...\n",
      "   [  0]\n",
      "   [  0]\n",
      "   [  0]]]\n",
      "\n",
      "\n",
      " [[[  1]\n",
      "   [  1]\n",
      "   [  1]\n",
      "   ...\n",
      "   [  2]\n",
      "   [  2]\n",
      "   [  2]]\n",
      "\n",
      "  [[  1]\n",
      "   [  1]\n",
      "   [  1]\n",
      "   ...\n",
      "   [  2]\n",
      "   [  2]\n",
      "   [  2]]\n",
      "\n",
      "  [[  1]\n",
      "   [  1]\n",
      "   [  1]\n",
      "   ...\n",
      "   [  2]\n",
      "   [  2]\n",
      "   [  2]]\n",
      "\n",
      "  ...\n",
      "\n",
      "  [[  5]\n",
      "   [ 11]\n",
      "   [ 10]\n",
      "   ...\n",
      "   [144]\n",
      "   [121]\n",
      "   [109]]\n",
      "\n",
      "  [[  7]\n",
      "   [ 18]\n",
      "   [ 10]\n",
      "   ...\n",
      "   [140]\n",
      "   [123]\n",
      "   [112]]\n",
      "\n",
      "  [[  0]\n",
      "   [  0]\n",
      "   [  0]\n",
      "   ...\n",
      "   [  1]\n",
      "   [  1]\n",
      "   [  2]]]\n",
      "\n",
      "\n",
      " [[[ 59]\n",
      "   [ 61]\n",
      "   [ 58]\n",
      "   ...\n",
      "   [195]\n",
      "   [193]\n",
      "   [188]]\n",
      "\n",
      "  [[ 60]\n",
      "   [ 59]\n",
      "   [ 58]\n",
      "   ...\n",
      "   [192]\n",
      "   [190]\n",
      "   [187]]\n",
      "\n",
      "  [[ 60]\n",
      "   [ 58]\n",
      "   [ 59]\n",
      "   ...\n",
      "   [191]\n",
      "   [189]\n",
      "   [186]]\n",
      "\n",
      "  ...\n",
      "\n",
      "  [[ 17]\n",
      "   [ 21]\n",
      "   [ 21]\n",
      "   ...\n",
      "   [ 40]\n",
      "   [ 48]\n",
      "   [ 47]]\n",
      "\n",
      "  [[ 15]\n",
      "   [ 20]\n",
      "   [ 21]\n",
      "   ...\n",
      "   [ 43]\n",
      "   [ 43]\n",
      "   [ 30]]\n",
      "\n",
      "  [[ 11]\n",
      "   [ 16]\n",
      "   [ 20]\n",
      "   ...\n",
      "   [ 46]\n",
      "   [ 42]\n",
      "   [ 28]]]]\n"
     ]
    }
   ],
   "source": [
    "x = np.array(x).reshape(-1, IMG_SIZE, IMG_SIZE, 1)\n",
    "print(x)\n",
    "\n",
    "\n"
   ]
  },
  {
   "cell_type": "code",
   "execution_count": 15,
   "id": "b433c420",
   "metadata": {},
   "outputs": [
    {
     "name": "stdout",
     "output_type": "stream",
     "text": [
      "[1. 0. 0.]\n"
     ]
    }
   ],
   "source": [
    "\n",
    "from tensorflow.keras.utils import to_categorical\n",
    "from keras.utils import np_utils\n",
    "\n",
    "training_set = x.astype('float32')\n",
    "training_set /= 255\n",
    "Y = np_utils.to_categorical(y, 3)\n",
    "print(Y[13])\n",
    "\n",
    "\n"
   ]
  },
  {
   "cell_type": "code",
   "execution_count": 16,
   "id": "3403bdb0",
   "metadata": {},
   "outputs": [
    {
     "name": "stdout",
     "output_type": "stream",
     "text": [
      "(9307, 100, 100, 1)\n"
     ]
    }
   ],
   "source": [
    "print(training_set.shape)\n"
   ]
  },
  {
   "cell_type": "code",
   "execution_count": 17,
   "id": "cc498c86",
   "metadata": {},
   "outputs": [
    {
     "ename": "NameError",
     "evalue": "name 'Y1' is not defined",
     "output_type": "error",
     "traceback": [
      "\u001b[1;31m---------------------------------------------------------------------------\u001b[0m",
      "\u001b[1;31mNameError\u001b[0m                                 Traceback (most recent call last)",
      "Input \u001b[1;32mIn [17]\u001b[0m, in \u001b[0;36m<cell line: 1>\u001b[1;34m()\u001b[0m\n\u001b[1;32m----> 1\u001b[0m \u001b[38;5;28mprint\u001b[39m(\u001b[43mY1\u001b[49m\u001b[38;5;241m.\u001b[39mshape) \u001b[38;5;66;03m# (3,)\u001b[39;00m\n\u001b[0;32m      2\u001b[0m \u001b[38;5;66;03m#Y1=preprocess(numpy.array(Y))\u001b[39;00m\n\u001b[0;32m      3\u001b[0m Y1\u001b[38;5;241m=\u001b[39m np\u001b[38;5;241m.\u001b[39marray (Y1)\n",
      "\u001b[1;31mNameError\u001b[0m: name 'Y1' is not defined"
     ]
    }
   ],
   "source": [
    "print(Y.shape) # (3,)\n",
    "#Y1=preprocess(numpy.array(Y))\n",
    "Y= np.array (Y)\n",
    "print (Y.shape)\n",
    "print(Y)"
   ]
  },
  {
   "cell_type": "code",
   "execution_count": 19,
   "id": "d660f0c5",
   "metadata": {},
   "outputs": [
    {
     "name": "stdout",
     "output_type": "stream",
     "text": [
      "(None, 20, 20, 256)\n",
      "(None, 18, 18, 256)\n",
      "Model: \"functional_1\"\n",
      "_________________________________________________________________\n",
      "Layer (type)                 Output Shape              Param #   \n",
      "=================================================================\n",
      "I1 (InputLayer)              [(None, 100, 100, 1)]     0         \n",
      "_________________________________________________________________\n",
      "conv2d_7 (Conv2D)            (None, 98, 98, 64)        640       \n",
      "_________________________________________________________________\n",
      "conv2d_8 (Conv2D)            (None, 96, 96, 64)        36928     \n",
      "_________________________________________________________________\n",
      "max_pooling2d_4 (MaxPooling2 (None, 48, 48, 64)        0         \n",
      "_________________________________________________________________\n",
      "conv2d_9 (Conv2D)            (None, 46, 46, 128)       73856     \n",
      "_________________________________________________________________\n",
      "conv2d_10 (Conv2D)           (None, 44, 44, 128)       147584    \n",
      "_________________________________________________________________\n",
      "max_pooling2d_5 (MaxPooling2 (None, 22, 22, 128)       0         \n",
      "_________________________________________________________________\n",
      "conv2d_11 (Conv2D)           (None, 20, 20, 256)       295168    \n",
      "_________________________________________________________________\n",
      "conv2d_12 (Conv2D)           (None, 18, 18, 256)       590080    \n",
      "_________________________________________________________________\n",
      "max_pooling2d_6 (MaxPooling2 (None, 9, 9, 256)         0         \n",
      "_________________________________________________________________\n",
      "conv2d_13 (Conv2D)           (None, 7, 7, 512)         1180160   \n",
      "_________________________________________________________________\n",
      "max_pooling2d_7 (MaxPooling2 (None, 4, 4, 512)         0         \n",
      "_________________________________________________________________\n",
      "flatten_1 (Flatten)          (None, 8192)              0         \n",
      "_________________________________________________________________\n",
      "dense_4 (Dense)              (None, 4096)              33558528  \n",
      "_________________________________________________________________\n",
      "dropout_3 (Dropout)          (None, 4096)              0         \n",
      "_________________________________________________________________\n",
      "dense_5 (Dense)              (None, 2048)              8390656   \n",
      "_________________________________________________________________\n",
      "batch_normalization_4 (Batch (None, 2048)              8192      \n",
      "_________________________________________________________________\n",
      "dropout_4 (Dropout)          (None, 2048)              0         \n",
      "_________________________________________________________________\n",
      "dense_6 (Dense)              (None, 1024)              2098176   \n",
      "_________________________________________________________________\n",
      "batch_normalization_5 (Batch (None, 1024)              4096      \n",
      "_________________________________________________________________\n",
      "dropout_5 (Dropout)          (None, 1024)              0         \n",
      "_________________________________________________________________\n",
      "dense_7 (Dense)              (None, 3)                 3075      \n",
      "=================================================================\n",
      "Total params: 46,387,139\n",
      "Trainable params: 46,380,995\n",
      "Non-trainable params: 6,144\n",
      "_________________________________________________________________\n"
     ]
    }
   ],
   "source": [
    "from tensorflow.python.keras import optimizers as opt\n",
    "import tensorflow as tf\n",
    "from tensorflow.keras.layers import Conv2D\n",
    "from tensorflow import keras\n",
    "from tensorflow.keras.layers import BatchNormalization\n",
    "from keras.regularizers import l2\n",
    "\n",
    "#conv1 = Conv2D(32, kernel_size=4, activation='relu')(inputs1)\n",
    "#pool1 = MaxPooling2D(pool_size=(2, 2))(conv1)\n",
    "#conv2 = Conv2D(64, kernel_size=4, activation='relu')(pool1)\n",
    "#pool12 = MaxPooling2D(pool_size=(2, 2))(conv2)\n",
    "##first1=Dropout(0.05)(pool2)\n",
    "inputs1 = Input(shape=(IMG_SIZE,IMG_SIZE,1),name = 'I1')\n",
    "\n",
    "conv1 = Conv2D(64, 3, activation = 'relu',kernel_regularizer=l2(0.0001))(inputs1)\n",
    "conv2 = Conv2D(64, 3, activation = 'relu')(conv1)\n",
    "pool1 = MaxPooling2D(pool_size=(2, 2),strides=2, padding='same')(conv2)\n",
    "#-------------------------------------------------------------------------\n",
    "conv3 = Conv2D(128, 3, activation = 'relu',kernel_regularizer=l2(0.0001))(pool1)\n",
    "conv4 = Conv2D(128, 3, activation = 'relu')(conv3)\n",
    "pool2 = MaxPooling2D(pool_size=(2, 2),strides=2, padding='same')(conv4)\n",
    "#-------------------------------------------------------------------------\n",
    "conv5 = Conv2D(256, 3, activation = 'relu',kernel_regularizer=l2(0.0001))(pool2)\n",
    "print(conv5.shape)\n",
    "conv6 = Conv2D(256, 3, activation = 'relu')(conv5)\n",
    "print(conv6.shape)\n",
    "pool3 = MaxPooling2D(pool_size=(2, 2),strides=2, padding='same')(conv6)\n",
    "#-------------------------------------------------------------------------\n",
    "conv7 = Conv2D(512, 3, activation = 'relu',kernel_regularizer=l2(0.0001))(pool3)\n",
    "#conv8 = Conv2D(512, 3, activation = 'relu')(conv7)\n",
    "#print(conv8.shape)\n",
    "pool4 = MaxPooling2D(pool_size=(2, 2),strides=2, padding='same')(conv7)\n",
    "#flat_1 = Flatten()(pool4)\n",
    "\n",
    "\n",
    "M = Flatten()(pool4)\n",
    "fc1=Dense(4096, activation='relu')(M)\n",
    "B1=BatchNormalization()(fc1)\n",
    "D1=Dropout(0.3)(fc1)\n",
    "fc2=Dense(2048, activation='relu')(D1)\n",
    "B2=BatchNormalization()(fc2)\n",
    "\n",
    "D2=Dropout(0.3)(B2)\n",
    "fc3=Dense(1024, activation='relu')(D2)\n",
    "B3=BatchNormalization()(fc3)\n",
    "D3=Dropout(0.3)(B3)\n",
    "output = Dense(3, activation='softmax' )(D3)\n",
    "\n",
    "\n",
    "\n",
    "model = Model(inputs=inputs1, outputs=output)\n",
    "\n",
    "\n",
    "#    model = Model(inputs=[lstm_output.input,input2], outputs=[output1,output2])\n",
    "opt = tf.keras.optimizers.Adam(learning_rate=0.0003)\n",
    "model.compile(optimizer=opt, loss='categorical_crossentropy',\n",
    "               metrics=['accuracy'])\n",
    "model.summary()"
   ]
  },
  {
   "cell_type": "code",
   "execution_count": 20,
   "id": "52c48ac8",
   "metadata": {},
   "outputs": [
    {
     "name": "stderr",
     "output_type": "stream",
     "text": [
      "ERROR: Could not find a version that satisfies the requirement plotLosseskeras (from versions: none)\n",
      "ERROR: No matching distribution found for plotLosseskeras\n",
      "WARNING: You are using pip version 21.3.1; however, version 22.3.1 is available.\n",
      "You should consider upgrading via the 'C:\\Users\\Shahzad Dar\\anaconda3\\envs\\Tensorflow\\python.exe -m pip install --upgrade pip' command.\n"
     ]
    }
   ],
   "source": [
    "!pip install plotLosseskeras"
   ]
  },
  {
   "cell_type": "code",
   "execution_count": 21,
   "id": "5b589faf",
   "metadata": {},
   "outputs": [],
   "source": [
    "from livelossplot import PlotLossesKeras\n",
    "from livelossplot.inputs.tf_keras import PlotLossesCallback\n",
    "from livelossplot import PlotLossesKeras\n",
    "plotlosses = PlotLossesKeras()\n",
    "\n",
    "\n",
    "reduce_lr = ReduceLROnPlateau(monitor='val_loss', factor=0.1,\n",
    "                              patience=2, min_lr=0.00001, mode='auto')\n",
    "\n",
    "checkpoint = ModelCheckpoint(\"tess.h5\", monitor='val_accuracy',\n",
    "                             save_weights_only=True, mode='max', verbose=2)\n",
    "\n",
    "callbacks = [PlotLossesCallback(), checkpoint, reduce_lr]"
   ]
  },
  {
   "cell_type": "code",
   "execution_count": null,
   "id": "5283c778",
   "metadata": {
    "scrolled": true
   },
   "outputs": [
    {
     "name": "stdout",
     "output_type": "stream",
     "text": [
      "Epoch 1/7\n",
      " 17/291 [>.............................] - ETA: 31:50 - loss: 1.9109 - accuracy: 0.3603"
     ]
    }
   ],
   "source": [
    "history = model.fit(x=training_set, y=Y, epochs=7, batch_size=32 , callbacks=[PlotLossesKeras()] )"
   ]
  },
  {
   "cell_type": "code",
   "execution_count": null,
   "id": "1a470d75",
   "metadata": {},
   "outputs": [],
   "source": []
  },
  {
   "cell_type": "code",
   "execution_count": 18,
   "id": "010c2b2d",
   "metadata": {},
   "outputs": [],
   "source": [
    "#history = model.fit( x=[training_set,training_set1], y=Y1, epochs=35, batch_size=35,validation_split=0.1)\n"
   ]
  },
  {
   "cell_type": "code",
   "execution_count": 19,
   "id": "bad29976",
   "metadata": {},
   "outputs": [],
   "source": [
    "\n",
    "DIRECTORY1=r'C:\\MyMaskD/eval'\n",
    "\n",
    "CATEGORIES=['positive','neutral','negative']\n"
   ]
  },
  {
   "cell_type": "code",
   "execution_count": 20,
   "id": "2ed084ed",
   "metadata": {},
   "outputs": [],
   "source": [
    "\n",
    "IMG_SIZE =100\n",
    "testing1 = []\n",
    "def createTestingDataT1():\n",
    "    for category1 in CATEGORIES:\n",
    "        path = os.path.join(DIRECTORYT1, category1)\n",
    "        class_num1 = CATEGORIES.index(category1)\n",
    "        for img in os.listdir(path):\n",
    "            img_array1 = cv2.imread(os.path.join(path,img),cv2.IMREAD_GRAYSCALE)\n",
    "            new_array1 = cv2.resize(img_array1, (IMG_SIZE, IMG_SIZE))\n",
    "            testing1.append([new_array1, class_num1])"
   ]
  },
  {
   "cell_type": "code",
   "execution_count": 21,
   "id": "f0d56c63",
   "metadata": {},
   "outputs": [],
   "source": [
    "\n",
    "createTestingDataT1()\n"
   ]
  },
  {
   "cell_type": "code",
   "execution_count": 22,
   "id": "193efb1b",
   "metadata": {},
   "outputs": [],
   "source": [
    "\n",
    "\n",
    "xT1 =[]\n",
    "yT1 =[]\n",
    "for features1, label1 in testing1:\n",
    "    xT1.append(features1)\n",
    "    yT1.append(label1)\n",
    "#print(xT1)\n"
   ]
  },
  {
   "cell_type": "code",
   "execution_count": 23,
   "id": "195a2e2f",
   "metadata": {},
   "outputs": [],
   "source": [
    "\n",
    "xT1 = np.array(xT1).reshape(-1, IMG_SIZE, IMG_SIZE, 1)\n",
    "#print(x1)"
   ]
  },
  {
   "cell_type": "code",
   "execution_count": 24,
   "id": "d4b47261",
   "metadata": {},
   "outputs": [
    {
     "name": "stdout",
     "output_type": "stream",
     "text": [
      "[1. 0. 0.]\n",
      "[1. 0. 0.]\n"
     ]
    }
   ],
   "source": [
    "from tensorflow.keras.utils import to_categorical\n",
    "from keras.utils import np_utils\n",
    "\n",
    "\n",
    "testing_set1 = xT1.astype('float32')\n",
    "testing_set1 /= 255\n",
    "\n",
    "YT1 = np_utils.to_categorical(yT1, 3)\n",
    "print(YT1[2])\n"
   ]
  },
  {
   "cell_type": "code",
   "execution_count": 25,
   "id": "b388ab3f",
   "metadata": {},
   "outputs": [
    {
     "name": "stdout",
     "output_type": "stream",
     "text": [
      "(1155, 100, 100, 1)\n"
     ]
    }
   ],
   "source": [
    "print(testing_set.shape)\n"
   ]
  },
  {
   "cell_type": "code",
   "execution_count": 26,
   "id": "2c570f3e",
   "metadata": {},
   "outputs": [
    {
     "name": "stdout",
     "output_type": "stream",
     "text": [
      "accuracy: 99.91%\n"
     ]
    }
   ],
   "source": [
    "scores = model.evaluate(x=testing_set1, y=YT1, verbose=0)\n",
    "print(\"%s: %.2f%%\" % (model.metrics_names[1], scores[1]*100))"
   ]
  },
  {
   "cell_type": "code",
   "execution_count": 27,
   "id": "061617f9",
   "metadata": {},
   "outputs": [
    {
     "name": "stdout",
     "output_type": "stream",
     "text": [
      "37/37 [==============================] - 43s 1s/step\n"
     ]
    }
   ],
   "source": [
    "predictions = model.predict([testing_set,testing_set1],batch_size=32, verbose=1)\n"
   ]
  },
  {
   "cell_type": "code",
   "execution_count": 28,
   "id": "ce024565",
   "metadata": {},
   "outputs": [
    {
     "name": "stdout",
     "output_type": "stream",
     "text": [
      "First prediction: [9.99998927e-01 1.17912556e-07 9.66251037e-07]\n",
      "second prediction: [9.9999952e-01 2.9136197e-08 5.3086580e-07]\n",
      "third prediction: [9.9999964e-01 3.2523362e-09 4.0902162e-07]\n",
      "fourth prediction: [9.9999905e-01 1.2884760e-07 8.3177537e-07]\n"
     ]
    }
   ],
   "source": [
    "print('First prediction:', predictions[0]) \n",
    "print('second prediction:',predictions[1])\n",
    "print('third prediction:',predictions[2])\n",
    "print('fourth prediction:',predictions[122])\n"
   ]
  },
  {
   "cell_type": "code",
   "execution_count": 29,
   "id": "7de39eb3",
   "metadata": {},
   "outputs": [
    {
     "data": {
      "text/plain": [
       "<matplotlib.legend.Legend at 0x24b0e61fbe0>"
      ]
     },
     "execution_count": 29,
     "metadata": {},
     "output_type": "execute_result"
    },
    {
     "data": {
      "image/png": "[encoded data removed]",
      "text/plain": [
       "<Figure size 432x288 with 1 Axes>"
      ]
     },
     "metadata": {
      "needs_background": "light"
     },
     "output_type": "display_data"
    }
   ],
   "source": [
    "plt.subplot(2,1,1)\n",
    "plt.plot(history.history['accuracy'])\n",
    "plt.plot(history.history['loss'])\n",
    "plt.title('Model Accuracy')\n",
    "plt.ylabel('Accuracy')\n",
    "plt.xlabel('Epoch')\n",
    "plt.legend(['Training', 'Validation'], loc='upper left')"
   ]
  },
  {
   "cell_type": "code",
   "execution_count": 30,
   "id": "0a75402c",
   "metadata": {},
   "outputs": [
    {
     "name": "stdout",
     "output_type": "stream",
     "text": [
      "dict_keys(['loss', 'accuracy'])\n"
     ]
    }
   ],
   "source": [
    "print(history.history.keys())"
   ]
  },
  {
   "cell_type": "code",
   "execution_count": 31,
   "id": "1932a528",
   "metadata": {},
   "outputs": [
    {
     "name": "stdout",
     "output_type": "stream",
     "text": [
      "[[1. 0. 0.]\n",
      " [1. 0. 0.]\n",
      " [1. 0. 0.]\n",
      " ...\n",
      " [0. 0. 1.]\n",
      " [0. 0. 1.]\n",
      " [0. 0. 1.]]\n"
     ]
    }
   ],
   "source": [
    "print(YT1)"
   ]
  },
  {
   "cell_type": "code",
   "execution_count": 32,
   "id": "3217f83a",
   "metadata": {},
   "outputs": [
    {
     "name": "stdout",
     "output_type": "stream",
     "text": [
      "[[9.99998927e-01 1.17912556e-07 9.66251037e-07]\n",
      " [9.99999523e-01 2.91361975e-08 5.30865805e-07]\n",
      " [9.99999642e-01 3.25233618e-09 4.09021624e-07]\n",
      " ...\n",
      " [2.72621401e-06 6.31631906e-07 9.99996662e-01]\n",
      " [4.88600472e-06 1.90108409e-08 9.99995112e-01]\n",
      " [4.53126035e-14 6.77076057e-14 1.00000000e+00]]\n"
     ]
    }
   ],
   "source": [
    "p=model.predict([testing_set,testing_set1])\n",
    "print(p)"
   ]
  },
  {
   "cell_type": "code",
   "execution_count": 33,
   "id": "0a59ef19",
   "metadata": {},
   "outputs": [
    {
     "name": "stdout",
     "output_type": "stream",
     "text": [
      "[0 0 0 0 0 0 0 0 0 0 0 0 0 0 0 0 0 0 0 0 0 0 0 0 0 0 0 0 0 0 0 0 0 0 0 0 0\n",
      " 0 0 0 0 0 0 0 0 0 0 0 0 0 0 0 0 0 0 0 0 0 0 0 0 0 0 0 0 0 0 0 0 0 0 0 0 0\n",
      " 0 0 0 0 0 0 0 0 0 0 0 0 0 0 0 0 0 0 0 0 0 0 0 0 0 0 0 0 0 0 0 0 0 0 0 0 0\n",
      " 0 0 0 0 0 0 0 0 0 0 0 0 0 0 0 0 0 0 0 0 0 0 0 0 0 0 0 0 0 0 0 0 0 0 0 0 0\n",
      " 0 0 0 0 0 0 0 0 0 0 0 0 0 0 0 0 0 0 0 0 0 0 0 0 0 0 0 0 0 0 0 0 0 0 0 0 0\n",
      " 0 0 0 0 0 0 0 0 0 0 0 0 0 0 0 0 0 0 0 0 0 0 0 0 0 0 0 0 0 0 0 0 0 0 0 0 0\n",
      " 0 0 0 0 0 0 0 0 0 0 0 0 0 0 0 0 0 0 0 0 0 0 0 0 0 0 0 0 0 0 0 0 0 0 0 0 0\n",
      " 0 0 0 0 0 0 0 0 0 0 0 0 0 0 0 0 0 0 0 0 0 0 0 0 0 0 0 0 0 0 0 0 0 0 0 0 0\n",
      " 0 0 0 0]\n"
     ]
    }
   ],
   "source": [
    "labels = np.argmax(p, axis=-1)    \n",
    "print(labels[:300])"
   ]
  },
  {
   "cell_type": "code",
   "execution_count": 34,
   "id": "7daad730",
   "metadata": {},
   "outputs": [
    {
     "name": "stdout",
     "output_type": "stream",
     "text": [
      "[[1 0 0]\n",
      " [1 0 0]\n",
      " [1 0 0]\n",
      " ...\n",
      " [0 0 1]\n",
      " [0 0 1]\n",
      " [0 0 1]]\n"
     ]
    }
   ],
   "source": [
    "labels = (p > 0.5).astype(int)\n",
    "print(labels)"
   ]
  },
  {
   "cell_type": "code",
   "execution_count": 35,
   "id": "4cbd21a2",
   "metadata": {},
   "outputs": [
    {
     "name": "stdout",
     "output_type": "stream",
     "text": [
      "1155\n",
      "1155\n"
     ]
    }
   ],
   "source": [
    "print (len(labels))\n",
    "print(len(p))"
   ]
  },
  {
   "cell_type": "code",
   "execution_count": 36,
   "id": "ed2adbfa",
   "metadata": {},
   "outputs": [
    {
     "name": "stdout",
     "output_type": "stream",
     "text": [
      "1155\n"
     ]
    }
   ],
   "source": [
    "print(len(yT1))\n"
   ]
  },
  {
   "cell_type": "code",
   "execution_count": 37,
   "id": "e0754072",
   "metadata": {},
   "outputs": [],
   "source": [
    "#use maxarg"
   ]
  },
  {
   "cell_type": "code",
   "execution_count": 38,
   "id": "99fa74ea",
   "metadata": {},
   "outputs": [
    {
     "name": "stdout",
     "output_type": "stream",
     "text": [
      "[[1. 0. 0.]\n",
      " [1. 0. 0.]\n",
      " [1. 0. 0.]\n",
      " ...\n",
      " [0. 0. 1.]\n",
      " [0. 0. 1.]\n",
      " [0. 0. 1.]]\n"
     ]
    }
   ],
   "source": [
    "print(YT1)"
   ]
  },
  {
   "cell_type": "code",
   "execution_count": 39,
   "id": "d2f38a85",
   "metadata": {},
   "outputs": [
    {
     "name": "stdout",
     "output_type": "stream",
     "text": [
      "[0 0 0 0 0 0 0 0]\n",
      "[0 0 0 0 0 0 0 0 0]\n"
     ]
    }
   ],
   "source": [
    "import numpy as np\n",
    "rounded_YT1=np.argmax(YT1, axis=1)\n",
    "rounded_labels=np.argmax(labels,axis=1)\n",
    "print(rounded_labels[2:10])\n",
    "print(rounded_YT1[1:10])"
   ]
  },
  {
   "cell_type": "code",
   "execution_count": 40,
   "id": "8988a6d9",
   "metadata": {},
   "outputs": [
    {
     "name": "stdout",
     "output_type": "stream",
     "text": [
      "[[644   0   0]\n",
      " [  0 416   1]\n",
      " [  0   0  94]]\n"
     ]
    }
   ],
   "source": [
    "from sklearn.metrics import ConfusionMatrixDisplay\n",
    "from sklearn.metrics import confusion_matrix\n",
    "import matplotlib.pyplot as plt\n",
    "import numpy as np\n",
    "cm = confusion_matrix(rounded_labels,rounded_YT1)\n",
    "print(cm)"
   ]
  },
  {
   "cell_type": "code",
   "execution_count": 41,
   "id": "45546c41",
   "metadata": {},
   "outputs": [
    {
     "data": {
      "image/png": "[encoded data removed]",
      "text/plain": [
       "<Figure size 432x288 with 2 Axes>"
      ]
     },
     "metadata": {
      "needs_background": "light"
     },
     "output_type": "display_data"
    }
   ],
   "source": [
    "file:///C:/Users/talha/Desktop/sample/output.html"
   ]
  },
  {
   "cell_type": "code",
   "execution_count": 42,
   "id": "95dc9b26",
   "metadata": {},
   "outputs": [
    {
     "ename": "ValueError",
     "evalue": "multilabel-indicator is not supported",
     "output_type": "error",
     "traceback": [
      "\u001b[1;31m---------------------------------------------------------------------------\u001b[0m",
      "\u001b[1;31mValueError\u001b[0m                                Traceback (most recent call last)",
      "\u001b[1;32mC:\\Users\\ADMINI~1\\AppData\\Local\\Temp/ipykernel_9588/1376018359.py\u001b[0m in \u001b[0;36m<module>\u001b[1;34m\u001b[0m\n\u001b[0;32m      3\u001b[0m \u001b[1;32mimport\u001b[0m \u001b[0mmatplotlib\u001b[0m\u001b[1;33m.\u001b[0m\u001b[0mpyplot\u001b[0m \u001b[1;32mas\u001b[0m \u001b[0mplt\u001b[0m\u001b[1;33m\u001b[0m\u001b[1;33m\u001b[0m\u001b[0m\n\u001b[0;32m      4\u001b[0m \u001b[1;32mimport\u001b[0m \u001b[0mnumpy\u001b[0m \u001b[1;32mas\u001b[0m \u001b[0mnp\u001b[0m\u001b[1;33m\u001b[0m\u001b[1;33m\u001b[0m\u001b[0m\n\u001b[1;32m----> 5\u001b[1;33m \u001b[0mcm\u001b[0m \u001b[1;33m=\u001b[0m \u001b[0mconfusion_matrix\u001b[0m\u001b[1;33m(\u001b[0m\u001b[0mlabels\u001b[0m\u001b[1;33m,\u001b[0m\u001b[0mYT1\u001b[0m\u001b[1;33m)\u001b[0m\u001b[1;33m\u001b[0m\u001b[1;33m\u001b[0m\u001b[0m\n\u001b[0m\u001b[0;32m      6\u001b[0m \u001b[0mprint\u001b[0m\u001b[1;33m(\u001b[0m\u001b[0mcm\u001b[0m\u001b[1;33m)\u001b[0m\u001b[1;33m\u001b[0m\u001b[1;33m\u001b[0m\u001b[0m\n",
      "\u001b[1;32mC:\\Users\\shahzad.dar\\.conda\\envs\\shahzad\\lib\\site-packages\\sklearn\\metrics\\_classification.py\u001b[0m in \u001b[0;36mconfusion_matrix\u001b[1;34m(y_true, y_pred, labels, sample_weight, normalize)\u001b[0m\n\u001b[0;32m    302\u001b[0m     \u001b[0my_type\u001b[0m\u001b[1;33m,\u001b[0m \u001b[0my_true\u001b[0m\u001b[1;33m,\u001b[0m \u001b[0my_pred\u001b[0m \u001b[1;33m=\u001b[0m \u001b[0m_check_targets\u001b[0m\u001b[1;33m(\u001b[0m\u001b[0my_true\u001b[0m\u001b[1;33m,\u001b[0m \u001b[0my_pred\u001b[0m\u001b[1;33m)\u001b[0m\u001b[1;33m\u001b[0m\u001b[1;33m\u001b[0m\u001b[0m\n\u001b[0;32m    303\u001b[0m     \u001b[1;32mif\u001b[0m \u001b[0my_type\u001b[0m \u001b[1;32mnot\u001b[0m \u001b[1;32min\u001b[0m \u001b[1;33m(\u001b[0m\u001b[1;34m\"binary\"\u001b[0m\u001b[1;33m,\u001b[0m \u001b[1;34m\"multiclass\"\u001b[0m\u001b[1;33m)\u001b[0m\u001b[1;33m:\u001b[0m\u001b[1;33m\u001b[0m\u001b[1;33m\u001b[0m\u001b[0m\n\u001b[1;32m--> 304\u001b[1;33m         \u001b[1;32mraise\u001b[0m \u001b[0mValueError\u001b[0m\u001b[1;33m(\u001b[0m\u001b[1;34m\"%s is not supported\"\u001b[0m \u001b[1;33m%\u001b[0m \u001b[0my_type\u001b[0m\u001b[1;33m)\u001b[0m\u001b[1;33m\u001b[0m\u001b[1;33m\u001b[0m\u001b[0m\n\u001b[0m\u001b[0;32m    305\u001b[0m \u001b[1;33m\u001b[0m\u001b[0m\n\u001b[0;32m    306\u001b[0m     \u001b[1;32mif\u001b[0m \u001b[0mlabels\u001b[0m \u001b[1;32mis\u001b[0m \u001b[1;32mNone\u001b[0m\u001b[1;33m:\u001b[0m\u001b[1;33m\u001b[0m\u001b[1;33m\u001b[0m\u001b[0m\n",
      "\u001b[1;31mValueError\u001b[0m: multilabel-indicator is not supported"
     ]
    }
   ],
   "source": [
    "from sklearn.metrics import ConfusionMatrixDisplay\n",
    "from sklearn.metrics import confusion_matrix\n",
    "import matplotlib.pyplot as plt\n",
    "import numpy as np\n",
    "cm = confusion_matrix(labels,YT1)\n",
    "print(cm)"
   ]
  },
  {
   "cell_type": "code",
   "execution_count": null,
   "id": "c31b5424",
   "metadata": {},
   "outputs": [],
   "source": []
  },
  {
   "cell_type": "code",
   "execution_count": null,
   "id": "18486058",
   "metadata": {},
   "outputs": [],
   "source": []
  },
  {
   "cell_type": "code",
   "execution_count": null,
   "id": "30df8117",
   "metadata": {},
   "outputs": [],
   "source": []
  },
  {
   "cell_type": "code",
   "execution_count": null,
   "id": "544a6e70",
   "metadata": {},
   "outputs": [],
   "source": []
  },
  {
   "cell_type": "code",
   "execution_count": null,
   "id": "7ecc3410",
   "metadata": {},
   "outputs": [],
   "source": []
  }
 ],
 "metadata": {
  "kernelspec": {
   "display_name": "Python 3 (ipykernel)",
   "language": "python",
   "name": "python3"
  },
  "language_info": {
   "codemirror_mode": {
    "name": "ipython",
    "version": 3
   },
   "file_extension": ".py",
   "mimetype": "text/x-python",
   "name": "python",
   "nbconvert_exporter": "python",
   "pygments_lexer": "ipython3",
   "version": "3.9.12"
  }
 },
 "nbformat": 4,
 "nbformat_minor": 5
}
